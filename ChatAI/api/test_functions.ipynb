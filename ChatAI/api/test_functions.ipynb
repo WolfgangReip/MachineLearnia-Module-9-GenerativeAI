{
 "cells": [
  {
   "cell_type": "code",
   "execution_count": null,
   "metadata": {},
   "outputs": [],
   "source": [
    "with open ('input.txt') as fichier:\n",
    "    data = fichier.read().splitlines()"
   ]
  }
 ],
 "metadata": {
  "kernelspec": {
   "display_name": "machinelearnia-module-9-generativeai-s2eRiKAz-py3.11",
   "language": "python",
   "name": "python3"
  },
  "language_info": {
   "name": "python",
   "version": "3.11.5"
  }
 },
 "nbformat": 4,
 "nbformat_minor": 2
}
