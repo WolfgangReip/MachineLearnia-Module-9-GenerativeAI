{
 "cells": [],
 "metadata": {
  "kernelspec": {
   "display_name": "machinelearnia-module-9-generativeai-s2eRiKAz-py3.11",
   "language": "python",
   "name": "python3"
  },
  "language_info": {
   "name": "python",
   "version": "3.11.5"
  }
 },
 "nbformat": 4,
 "nbformat_minor": 2
}
